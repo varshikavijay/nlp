{
  "nbformat": 4,
  "nbformat_minor": 0,
  "metadata": {
    "colab": {
      "provenance": []
    },
    "kernelspec": {
      "name": "python3",
      "display_name": "Python 3"
    },
    "language_info": {
      "name": "python"
    }
  },
  "cells": [
    {
      "cell_type": "code",
      "execution_count": 1,
      "metadata": {
        "colab": {
          "base_uri": "https://localhost:8080/"
        },
        "id": "bxktsvGH1w4q",
        "outputId": "633a95a5-cb96-40ed-b6a1-6a2045eba3bf"
      },
      "outputs": [
        {
          "output_type": "stream",
          "name": "stderr",
          "text": [
            "[nltk_data] Downloading package punkt to /root/nltk_data...\n",
            "[nltk_data]   Unzipping tokenizers/punkt.zip.\n"
          ]
        },
        {
          "output_type": "stream",
          "name": "stdout",
          "text": [
            "Unigrams:\n",
            "Counter({'.': 4, 'machine': 3, 'learning': 3, 'i': 2, 'love': 2, 'is': 2, 'python': 2, 'fun': 1, 'coding': 1, 'in': 1, 'great': 1, 'for': 1})\n",
            "\n",
            "Bigrams:\n",
            "Counter({('machine', 'learning'): 3, ('i', 'love'): 2, ('learning', '.'): 2, ('love', 'machine'): 1, ('.', 'machine'): 1, ('learning', 'is'): 1, ('is', 'fun'): 1, ('fun', '.'): 1, ('.', 'i'): 1, ('love', 'coding'): 1, ('coding', 'in'): 1, ('in', 'python'): 1, ('python', '.'): 1, ('.', 'python'): 1, ('python', 'is'): 1, ('is', 'great'): 1, ('great', 'for'): 1, ('for', 'machine'): 1})\n",
            "\n",
            "Trigrams:\n",
            "Counter({('machine', 'learning', '.'): 2, ('i', 'love', 'machine'): 1, ('love', 'machine', 'learning'): 1, ('learning', '.', 'machine'): 1, ('.', 'machine', 'learning'): 1, ('machine', 'learning', 'is'): 1, ('learning', 'is', 'fun'): 1, ('is', 'fun', '.'): 1, ('fun', '.', 'i'): 1, ('.', 'i', 'love'): 1, ('i', 'love', 'coding'): 1, ('love', 'coding', 'in'): 1, ('coding', 'in', 'python'): 1, ('in', 'python', '.'): 1, ('python', '.', 'python'): 1, ('.', 'python', 'is'): 1, ('python', 'is', 'great'): 1, ('is', 'great', 'for'): 1, ('great', 'for', 'machine'): 1, ('for', 'machine', 'learning'): 1})\n",
            "\n",
            "Bigram Probabilities:\n",
            "P(love | i) = 1.0000\n",
            "P(machine | love) = 0.5000\n",
            "P(coding | love) = 0.5000\n",
            "P(learning | machine) = 1.0000\n",
            "P(. | learning) = 0.6667\n",
            "P(is | learning) = 0.3333\n",
            "P(machine | .) = 0.2500\n",
            "P(i | .) = 0.2500\n",
            "P(python | .) = 0.2500\n",
            "P(fun | is) = 0.5000\n",
            "P(great | is) = 0.5000\n",
            "P(. | fun) = 1.0000\n",
            "P(in | coding) = 1.0000\n",
            "P(python | in) = 1.0000\n",
            "P(. | python) = 0.5000\n",
            "P(is | python) = 0.5000\n",
            "P(for | great) = 1.0000\n",
            "P(machine | for) = 1.0000\n",
            "\n",
            "Predicted next word after 'machine': learning\n"
          ]
        }
      ],
      "source": [
        "from collections import Counter, defaultdict\n",
        "import random\n",
        "import nltk\n",
        "from nltk.util import ngrams\n",
        "from nltk.tokenize import word_tokenize\n",
        "from nltk.probability import FreqDist, ConditionalFreqDist\n",
        "nltk.download('punkt')\n",
        "text = \"I love machine learning. Machine learning is fun. I love coding in Python. Python is great for machine learning.\"\n",
        "tokens = word_tokenize(text.lower())\n",
        "unigrams = list(tokens)\n",
        "unigram_freq = Counter(unigrams)\n",
        "print(\"Unigrams:\")\n",
        "print(unigram_freq)\n",
        "bigrams = list(ngrams(tokens, 2))\n",
        "bigram_freq = Counter(bigrams)\n",
        "print(\"\\nBigrams:\")\n",
        "print(bigram_freq)\n",
        "trigrams = list(ngrams(tokens, 3))\n",
        "trigram_freq = Counter(trigrams)\n",
        "print(\"\\nTrigrams:\")\n",
        "print(trigram_freq)\n",
        "bigram_cfd = ConditionalFreqDist((w1, w2) for w1, w2 in bigrams)\n",
        "print(\"\\nBigram Probabilities:\")\n",
        "for w1 in bigram_cfd.conditions():\n",
        "    for w2 in bigram_cfd[w1]:\n",
        "        print(f\"P({w2} | {w1}) = {bigram_cfd[w1][w2] / unigram_freq[w1]:.4f}\")\n",
        "def predict_next_word(current_word):\n",
        "    if current_word in bigram_cfd:\n",
        "        possible_words = list(bigram_cfd[current_word].keys())\n",
        "        return random.choices(possible_words, weights=bigram_cfd[current_word].values())[0]\n",
        "    else:\n",
        "        return None\n",
        "current_word = \"machine\"\n",
        "next_word = predict_next_word(current_word)\n",
        "print(f\"\\nPredicted next word after '{current_word}': {next_word}\")\n"
      ]
    }
  ]
}